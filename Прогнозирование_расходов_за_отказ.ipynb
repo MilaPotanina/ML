{
  "nbformat": 4,
  "nbformat_minor": 0,
  "metadata": {
    "colab": {
      "provenance": [],
      "authorship_tag": "ABX9TyNulULDh0a2bmLrOPCQ+sTI",
      "include_colab_link": true
    },
    "kernelspec": {
      "name": "python3",
      "display_name": "Python 3"
    },
    "language_info": {
      "name": "python"
    }
  },
  "cells": [
    {
      "cell_type": "markdown",
      "metadata": {
        "id": "view-in-github",
        "colab_type": "text"
      },
      "source": [
        "<a href=\"https://colab.research.google.com/github/MilaPotanina/ML/blob/main/%D0%9F%D1%80%D0%BE%D0%B3%D0%BD%D0%BE%D0%B7%D0%B8%D1%80%D0%BE%D0%B2%D0%B0%D0%BD%D0%B8%D0%B5_%D1%80%D0%B0%D1%81%D1%85%D0%BE%D0%B4%D0%BE%D0%B2_%D0%B7%D0%B0_%D0%BE%D1%82%D0%BA%D0%B0%D0%B7.ipynb\" target=\"_parent\"><img src=\"https://colab.research.google.com/assets/colab-badge.svg\" alt=\"Open In Colab\"/></a>"
      ]
    },
    {
      "cell_type": "code",
      "execution_count": 49,
      "metadata": {
        "colab": {
          "base_uri": "https://localhost:8080/"
        },
        "id": "Z8Edg1Ap-7TE",
        "outputId": "7c93edd0-102c-4113-aa6b-3fc1ca6ecb79"
      },
      "outputs": [
        {
          "output_type": "stream",
          "name": "stdout",
          "text": [
            "<class 'pandas.core.frame.DataFrame'>\n",
            "RangeIndex: 276205 entries, 0 to 276204\n",
            "Data columns (total 26 columns):\n",
            " #   Column                           Non-Null Count   Dtype  \n",
            "---  ------                           --------------   -----  \n",
            " 0   Unnamed: 0                       276205 non-null  int64  \n",
            " 1   order_id                         276205 non-null  object \n",
            " 2   departure_country                276205 non-null  int64  \n",
            " 3   departure_city                   269885 non-null  float64\n",
            " 4   departure_region                 276205 non-null  int64  \n",
            " 5   arrival_country                  276205 non-null  int64  \n",
            " 6   arrival_city                     267342 non-null  float64\n",
            " 7   arrival_region                   276205 non-null  int64  \n",
            " 8   order_date                       276205 non-null  object \n",
            " 9   stock_departure_date             276205 non-null  object \n",
            " 10  delivery_service_departure_date  276205 non-null  object \n",
            " 11  client_arrival_date              276205 non-null  object \n",
            " 12  item_type                        276205 non-null  int64  \n",
            " 13  client_keywords                  61213 non-null   object \n",
            " 14  client_device_type               276205 non-null  int64  \n",
            " 15  client_browser                   276205 non-null  int64  \n",
            " 16  item_package_type                276205 non-null  object \n",
            " 17  client_is_app                    276205 non-null  bool   \n",
            " 18  order_tracking_available         276205 non-null  int64  \n",
            " 19  brand_name                       276205 non-null  object \n",
            " 20  item_id                          276205 non-null  object \n",
            " 21  item_category                    276205 non-null  object \n",
            " 22  delivery_service_name            276205 non-null  object \n",
            " 23  type_prepayment                  276205 non-null  int64  \n",
            " 24  item_price                       276205 non-null  float64\n",
            " 25  item_losses                      276205 non-null  float64\n",
            "dtypes: bool(1), float64(4), int64(10), object(11)\n",
            "memory usage: 52.9+ MB\n",
            "None\n"
          ]
        }
      ],
      "source": [
        "import pandas as pd\n",
        "\n",
        "# Загрузка данных\n",
        "df_train = pd.read_csv('df_train.csv')\n",
        "df_test = pd.read_csv('df_test.csv')\n",
        "\n",
        "# Просмотр структуры данных\n",
        "print(df_train.info())\n",
        "\n"
      ]
    },
    {
      "cell_type": "code",
      "source": [
        "#посмотрим на основные метрики\n",
        "print(df_train.describe())"
      ],
      "metadata": {
        "colab": {
          "base_uri": "https://localhost:8080/"
        },
        "id": "WkyKI2ned1ex",
        "outputId": "54b99bf4-4f3c-4e96-cdd0-3ab5912f886b"
      },
      "execution_count": 50,
      "outputs": [
        {
          "output_type": "stream",
          "name": "stdout",
          "text": [
            "          Unnamed: 0  departure_country  departure_city  departure_region  \\\n",
            "count  276205.000000      276205.000000   269885.000000     276205.000000   \n",
            "mean   138102.000000          11.829728      232.526139        934.976499   \n",
            "std     79733.659888           1.206116      175.040157        523.889072   \n",
            "min         0.000000           1.000000        0.000000          0.000000   \n",
            "25%     69051.000000          12.000000      121.000000        452.000000   \n",
            "50%    138102.000000          12.000000      125.000000        856.000000   \n",
            "75%    207153.000000          12.000000      352.000000       1405.000000   \n",
            "max    276204.000000          13.000000      714.000000       1755.000000   \n",
            "\n",
            "       arrival_country   arrival_city  arrival_region      item_type  \\\n",
            "count    276205.000000  267342.000000   276205.000000  276205.000000   \n",
            "mean         11.753010     252.725737      937.165033       0.099861   \n",
            "std           1.591248     183.106162      521.315965       0.358597   \n",
            "min           1.000000       0.000000        0.000000       0.000000   \n",
            "25%          12.000000     121.000000      496.000000       0.000000   \n",
            "50%          12.000000     125.000000      856.000000       0.000000   \n",
            "75%          12.000000     386.000000     1405.000000       0.000000   \n",
            "max          14.000000     714.000000     1755.000000       2.000000   \n",
            "\n",
            "       client_device_type  client_browser  order_tracking_available  \\\n",
            "count       276205.000000   276205.000000             276205.000000   \n",
            "mean             3.776108        1.471617                  0.036368   \n",
            "std             32.975989        1.817060                  0.187204   \n",
            "min              0.000000        0.000000                  0.000000   \n",
            "25%              1.000000        0.000000                  0.000000   \n",
            "50%              2.000000        1.000000                  0.000000   \n",
            "75%              2.000000        2.000000                  0.000000   \n",
            "max           1152.000000        9.000000                  1.000000   \n",
            "\n",
            "       type_prepayment     item_price    item_losses  \n",
            "count    276205.000000  276205.000000  276205.000000  \n",
            "mean          1.761007     635.585094      23.584252  \n",
            "std           0.575160     565.005843      47.763472  \n",
            "min           0.000000       0.000000    -480.848430  \n",
            "25%           2.000000     261.426184       0.000000  \n",
            "50%           2.000000     489.399183       0.000000  \n",
            "75%           2.000000     827.864100      34.209188  \n",
            "max           3.000000   13787.240979    1234.954697  \n"
          ]
        }
      ]
    },
    {
      "cell_type": "code",
      "source": [
        "#посмотрим на отсутствующие данные и постараемся их заполнить\n",
        "df_train.isnull().sum()\n"
      ],
      "metadata": {
        "colab": {
          "base_uri": "https://localhost:8080/",
          "height": 899
        },
        "id": "mY6vx1wHIkLC",
        "outputId": "fbf83322-99c5-4cf5-841e-ac871c59313c"
      },
      "execution_count": 51,
      "outputs": [
        {
          "output_type": "execute_result",
          "data": {
            "text/plain": [
              "Unnamed: 0                              0\n",
              "order_id                                0\n",
              "departure_country                       0\n",
              "departure_city                       6320\n",
              "departure_region                        0\n",
              "arrival_country                         0\n",
              "arrival_city                         8863\n",
              "arrival_region                          0\n",
              "order_date                              0\n",
              "stock_departure_date                    0\n",
              "delivery_service_departure_date         0\n",
              "client_arrival_date                     0\n",
              "item_type                               0\n",
              "client_keywords                    214992\n",
              "client_device_type                      0\n",
              "client_browser                          0\n",
              "item_package_type                       0\n",
              "client_is_app                           0\n",
              "order_tracking_available                0\n",
              "brand_name                              0\n",
              "item_id                                 0\n",
              "item_category                           0\n",
              "delivery_service_name                   0\n",
              "type_prepayment                         0\n",
              "item_price                              0\n",
              "item_losses                             0\n",
              "dtype: int64"
            ],
            "text/html": [
              "<div>\n",
              "<style scoped>\n",
              "    .dataframe tbody tr th:only-of-type {\n",
              "        vertical-align: middle;\n",
              "    }\n",
              "\n",
              "    .dataframe tbody tr th {\n",
              "        vertical-align: top;\n",
              "    }\n",
              "\n",
              "    .dataframe thead th {\n",
              "        text-align: right;\n",
              "    }\n",
              "</style>\n",
              "<table border=\"1\" class=\"dataframe\">\n",
              "  <thead>\n",
              "    <tr style=\"text-align: right;\">\n",
              "      <th></th>\n",
              "      <th>0</th>\n",
              "    </tr>\n",
              "  </thead>\n",
              "  <tbody>\n",
              "    <tr>\n",
              "      <th>Unnamed: 0</th>\n",
              "      <td>0</td>\n",
              "    </tr>\n",
              "    <tr>\n",
              "      <th>order_id</th>\n",
              "      <td>0</td>\n",
              "    </tr>\n",
              "    <tr>\n",
              "      <th>departure_country</th>\n",
              "      <td>0</td>\n",
              "    </tr>\n",
              "    <tr>\n",
              "      <th>departure_city</th>\n",
              "      <td>6320</td>\n",
              "    </tr>\n",
              "    <tr>\n",
              "      <th>departure_region</th>\n",
              "      <td>0</td>\n",
              "    </tr>\n",
              "    <tr>\n",
              "      <th>arrival_country</th>\n",
              "      <td>0</td>\n",
              "    </tr>\n",
              "    <tr>\n",
              "      <th>arrival_city</th>\n",
              "      <td>8863</td>\n",
              "    </tr>\n",
              "    <tr>\n",
              "      <th>arrival_region</th>\n",
              "      <td>0</td>\n",
              "    </tr>\n",
              "    <tr>\n",
              "      <th>order_date</th>\n",
              "      <td>0</td>\n",
              "    </tr>\n",
              "    <tr>\n",
              "      <th>stock_departure_date</th>\n",
              "      <td>0</td>\n",
              "    </tr>\n",
              "    <tr>\n",
              "      <th>delivery_service_departure_date</th>\n",
              "      <td>0</td>\n",
              "    </tr>\n",
              "    <tr>\n",
              "      <th>client_arrival_date</th>\n",
              "      <td>0</td>\n",
              "    </tr>\n",
              "    <tr>\n",
              "      <th>item_type</th>\n",
              "      <td>0</td>\n",
              "    </tr>\n",
              "    <tr>\n",
              "      <th>client_keywords</th>\n",
              "      <td>214992</td>\n",
              "    </tr>\n",
              "    <tr>\n",
              "      <th>client_device_type</th>\n",
              "      <td>0</td>\n",
              "    </tr>\n",
              "    <tr>\n",
              "      <th>client_browser</th>\n",
              "      <td>0</td>\n",
              "    </tr>\n",
              "    <tr>\n",
              "      <th>item_package_type</th>\n",
              "      <td>0</td>\n",
              "    </tr>\n",
              "    <tr>\n",
              "      <th>client_is_app</th>\n",
              "      <td>0</td>\n",
              "    </tr>\n",
              "    <tr>\n",
              "      <th>order_tracking_available</th>\n",
              "      <td>0</td>\n",
              "    </tr>\n",
              "    <tr>\n",
              "      <th>brand_name</th>\n",
              "      <td>0</td>\n",
              "    </tr>\n",
              "    <tr>\n",
              "      <th>item_id</th>\n",
              "      <td>0</td>\n",
              "    </tr>\n",
              "    <tr>\n",
              "      <th>item_category</th>\n",
              "      <td>0</td>\n",
              "    </tr>\n",
              "    <tr>\n",
              "      <th>delivery_service_name</th>\n",
              "      <td>0</td>\n",
              "    </tr>\n",
              "    <tr>\n",
              "      <th>type_prepayment</th>\n",
              "      <td>0</td>\n",
              "    </tr>\n",
              "    <tr>\n",
              "      <th>item_price</th>\n",
              "      <td>0</td>\n",
              "    </tr>\n",
              "    <tr>\n",
              "      <th>item_losses</th>\n",
              "      <td>0</td>\n",
              "    </tr>\n",
              "  </tbody>\n",
              "</table>\n",
              "</div><br><label><b>dtype:</b> int64</label>"
            ]
          },
          "metadata": {},
          "execution_count": 51
        }
      ]
    },
    {
      "cell_type": "code",
      "source": [
        "# Удаляем столбцы Unnamed: 0, order_id - потому что они не будут влиять на модель, и client_keywords - потому что слишком много данных пропущено\n",
        "columns_to_drop = ['Unnamed: 0', 'order_id', 'client_keywords']\n",
        "df_train.drop(columns=columns_to_drop, inplace=True)\n",
        "df_test.drop(columns=columns_to_drop, inplace=True)\n",
        "\n",
        "\n",
        "\n"
      ],
      "metadata": {
        "id": "wfkQb_SSL8WP"
      },
      "execution_count": 52,
      "outputs": []
    },
    {
      "cell_type": "code",
      "source": [
        "# Заменяем пропущенные значения в 'departure_city' и 'arrival_city' на моду\n",
        "for col in ['departure_city', 'arrival_city', 'item_category', 'brand_name', 'delivery_service_name', 'item_package_type', 'item_id']:\n",
        "    mode_value = df_train[col].mode()[0]  # Вычисляем моду\n",
        "    df_train.fillna({col:mode_value}, inplace=True)\n",
        "    df_test.fillna({col:mode_value}, inplace=True)\n",
        "\n",
        ""
      ],
      "metadata": {
        "id": "gY_D-PupMCWV"
      },
      "execution_count": 53,
      "outputs": []
    },
    {
      "cell_type": "code",
      "source": [
        "#посмотрим, есть ли выбросы в целевой переменной, и попробуем их заменить на медиану\n",
        "import seaborn as sns\n",
        "import matplotlib.pyplot as plt\n",
        "\n",
        "plt.figure(figsize=(10, 6))\n",
        "sns.boxplot(x=df_train['item_losses'])\n",
        "plt.title('Boxplot для item_losses')\n",
        "plt.show()\n",
        "\n"
      ],
      "metadata": {
        "colab": {
          "base_uri": "https://localhost:8080/",
          "height": 564
        },
        "id": "dDwRdkbTctob",
        "outputId": "404de290-d4b5-4687-86f0-fa40e622ab9c"
      },
      "execution_count": 54,
      "outputs": [
        {
          "output_type": "display_data",
          "data": {
            "text/plain": [
              "<Figure size 1000x600 with 1 Axes>"
            ],
            "image/png": "[encoded data removed]"
          },
          "metadata": {}
        }
      ]
    },
    {
      "cell_type": "markdown",
      "source": [
        "По графику видно, что у целевой перемнной имеются как крайне низкие, так и крайне высокие значения. Их необходимо нормализировать"
      ],
      "metadata": {
        "id": "9JRHbkE5eXv5"
      }
    },
    {
      "cell_type": "code",
      "source": [
        "# Количество строк, где значения меньше 0\n",
        "count_less_than_0 = (df_train['item_losses'] < 0).sum()\n",
        "\n",
        "# Количество строк, где значения больше 750\n",
        "count_greater_than_700 = (df_train['item_losses'] > 700).sum()\n",
        "\n",
        "# Общая сумма строк, не соответствующих диапазону\n",
        "total_outliers = count_less_than_0 + count_greater_than_750\n",
        "\n",
        "# Вывод результатов\n",
        "print(f\"Количество значений меньше 0: {count_less_than_0}\")\n",
        "print(f\"Количество значений больше 700: {count_greater_than_750}\")\n",
        "print(f\"Общее количество выбросов: {total_outliers}\")\n"
      ],
      "metadata": {
        "colab": {
          "base_uri": "https://localhost:8080/"
        },
        "id": "AvsY6Rp7duH2",
        "outputId": "e696bb3c-1095-46a7-e69d-1079f559ade9"
      },
      "execution_count": 59,
      "outputs": [
        {
          "output_type": "stream",
          "name": "stdout",
          "text": [
            "Количество значений меньше 0: 4\n",
            "Количество значений больше 700: 195\n",
            "Общее количество выбросов: 199\n"
          ]
        }
      ]
    },
    {
      "cell_type": "code",
      "source": [
        "# эти данные можно удалить. Фильтрация значений item_losses\n",
        "df_train = df_train[(df_train['item_losses'] >= 0) & (df_train['item_losses'] <= 750)]\n"
      ],
      "metadata": {
        "id": "SGFTHUyEhDDv"
      },
      "execution_count": 60,
      "outputs": []
    },
    {
      "cell_type": "code",
      "source": [
        "plt.figure(figsize=(10, 6))\n",
        "sns.boxplot(x=df_train['item_losses'])\n",
        "plt.title('Boxplot для item_losses')\n",
        "plt.show()"
      ],
      "metadata": {
        "colab": {
          "base_uri": "https://localhost:8080/",
          "height": 564
        },
        "id": "MXtu0Sn9en7M",
        "outputId": "dc19e5a4-4838-4686-c37d-c153b44d063f"
      },
      "execution_count": 61,
      "outputs": [
        {
          "output_type": "display_data",
          "data": {
            "text/plain": [
              "<Figure size 1000x600 with 1 Axes>"
            ],
            "image/png": "[encoded data removed]"
          },
          "metadata": {}
        }
      ]
    },
    {
      "cell_type": "markdown",
      "source": [
        "Для того чтобы понять, какие категориальные признаки необходимо преобразовать, посмотрим на корреляцию этих признаков с целевой переменной"
      ],
      "metadata": {
        "id": "4VJDzXr6psan"
      }
    },
    {
      "cell_type": "code",
      "source": [
        "from scipy.stats import f_oneway\n",
        "from sklearn.preprocessing import LabelEncoder\n",
        "import numpy as np\n",
        "\n",
        "# Список категориальных признаков\n",
        "categorical_columns = ['item_package_type', 'brand_name',\t'item_id',\t'item_category',\t'delivery_service_name']\n",
        "\n",
        "# Словарь для хранения результатов\n",
        "results = {}\n",
        "\n",
        "# Проходим по каждому категориальному признаку\n",
        "for col in categorical_columns:\n",
        "    # Кодируем признак во временный числовой формат\n",
        "    le = LabelEncoder()\n",
        "    encoded_column = le.fit_transform(df_train[col])\n",
        "\n",
        "    # Группировка по категориям и расчет средних значений\n",
        "    category_means = df_train.groupby(col)['item_losses'].mean()\n",
        "\n",
        "\n",
        "    # Сохраняем результаты\n",
        "    results[col] = {'mean_diff': category_means.max() - category_means.min()}\n",
        "\n",
        "# Конвертируем результаты в DataFrame для анализа\n",
        "results_df = pd.DataFrame(results).T\n",
        "print(results_df)\n"
      ],
      "metadata": {
        "colab": {
          "base_uri": "https://localhost:8080/"
        },
        "id": "FZvg1DFlggT0",
        "outputId": "4aedd278-54a0-4e95-f515-0a0e2afe6559"
      },
      "execution_count": 62,
      "outputs": [
        {
          "output_type": "stream",
          "name": "stdout",
          "text": [
            "                        mean_diff\n",
            "item_package_type       17.743205\n",
            "brand_name              53.581153\n",
            "item_id                146.478504\n",
            "item_category           44.586848\n",
            "delivery_service_name  109.173845\n"
          ]
        }
      ]
    },
    {
      "cell_type": "markdown",
      "source": [
        "Наибольшую корреляцию с целевой переменной имеют признаки delivery_service_name, item_id и brand_name. Их будем преобразовывать в числовые признаки, остальные удалим (здесь желательно провести анализ на важность признаков после обучения модели)"
      ],
      "metadata": {
        "id": "6IRKoQdzp6dK"
      }
    },
    {
      "cell_type": "code",
      "source": [
        "low_corr_features = ['item_category', 'item_package_type']  # Список столбцов с низкой корреляцией\n",
        "df_train.drop(columns=low_corr_features, inplace=True)\n",
        "df_test.drop(columns=low_corr_features, inplace=True)"
      ],
      "metadata": {
        "id": "clhwDOMsmOj-"
      },
      "execution_count": 63,
      "outputs": []
    },
    {
      "cell_type": "code",
      "source": [
        "#преобразуем категориальные переменные\n",
        "from sklearn.preprocessing import OrdinalEncoder\n",
        "\n",
        "# Указываем категориальные признаки\n",
        "cat_features = ['delivery_service_name', 'item_id', 'brand_name']\n",
        "\n",
        "# Создаем экземпляр OrdinalEncoder с обработкой новых категорий\n",
        "ordinal_encoder = OrdinalEncoder(handle_unknown='use_encoded_value', unknown_value=-1)\n",
        "\n",
        "# Преобразуем тренировочные данные и обучаем OrdinalEncoder\n",
        "df_train[cat_features] = ordinal_encoder.fit_transform(df_train[cat_features])\n",
        "\n",
        "# Преобразуем тестовые данные с использованием уже обученного OrdinalEncoder\n",
        "df_test[cat_features] = ordinal_encoder.transform(df_test[cat_features])\n"
      ],
      "metadata": {
        "id": "AooTb_Spq9EG"
      },
      "execution_count": 64,
      "outputs": []
    },
    {
      "cell_type": "code",
      "source": [
        "#посмотрим, что получилось\n",
        "print(df_train.head(5))\n",
        "print(df_test.head(5))"
      ],
      "metadata": {
        "colab": {
          "base_uri": "https://localhost:8080/"
        },
        "id": "Kl01zGbEuYKf",
        "outputId": "8f390a27-1b5a-41e0-e1a1-08a8f8cd9407"
      },
      "execution_count": 65,
      "outputs": [
        {
          "output_type": "stream",
          "name": "stdout",
          "text": [
            "   departure_country  departure_city  departure_region  arrival_country  \\\n",
            "0                 12           565.0               466               12   \n",
            "1                 12           361.0               292               12   \n",
            "2                 12           125.0              1666               12   \n",
            "3                 12           507.0               263               12   \n",
            "4                 12           261.0              1597               12   \n",
            "\n",
            "   arrival_city  arrival_region           order_date stock_departure_date  \\\n",
            "0         162.0             888  2017-12-27 09:49:55  00-48-00 2018-01-02   \n",
            "1         121.0             351  2016-10-17 21:17:17  14-50-00 2016-11-02   \n",
            "2         634.0             530  2017-04-26 18:23:43  21-15-00 2017-05-06   \n",
            "3         171.0            1398  2017-07-01 20:02:55  20-43-00 2017-07-09   \n",
            "4         125.0            1666  2017-05-31 18:18:31  21-38-00 2017-06-24   \n",
            "\n",
            "  delivery_service_departure_date  client_arrival_date  ...  \\\n",
            "0             12-04-00 2018-01-03  18-09-00 2018-01-03  ...   \n",
            "1             21-33-00 2016-11-02  08-10-00 2016-11-03  ...   \n",
            "2             21-15-00 2017-05-06  00-37-00 2017-05-07  ...   \n",
            "3             20-43-00 2017-07-09  10-57-00 2017-07-10  ...   \n",
            "4             03-42-00 2017-06-25  09-13-00 2017-06-26  ...   \n",
            "\n",
            "   client_device_type  client_browser  client_is_app  \\\n",
            "0                   1               0           True   \n",
            "1                   2               1           True   \n",
            "2                   3               0           True   \n",
            "3                   0               0           True   \n",
            "4                   3               0           True   \n",
            "\n",
            "   order_tracking_available  brand_name  item_id  delivery_service_name  \\\n",
            "0                         0       112.0   1320.0                    5.0   \n",
            "1                         0        71.0    624.0                   10.0   \n",
            "2                         0        26.0    459.0                   10.0   \n",
            "3                         0       112.0    124.0                   10.0   \n",
            "4                         0        96.0   1349.0                   10.0   \n",
            "\n",
            "   type_prepayment   item_price  item_losses  \n",
            "0                1   443.228241     0.000000  \n",
            "1                2   589.481978     0.000000  \n",
            "2                2   110.946960     0.000000  \n",
            "3                2   793.902828     0.000000  \n",
            "4                2  1174.806858   119.655797  \n",
            "\n",
            "[5 rows x 21 columns]\n",
            "   departure_country  departure_city  departure_region  arrival_country  \\\n",
            "0                 12           125.0               824               12   \n",
            "1                 12           642.0               635               12   \n",
            "2                 12           193.0               215               12   \n",
            "3                 12           121.0                36               12   \n",
            "4                 12           485.0               189               12   \n",
            "\n",
            "   arrival_city  arrival_region           order_date stock_departure_date  \\\n",
            "0         121.0            1732  2018-05-15 14:41:20  19-35-00 2018-07-05   \n",
            "1         193.0             215  2018-05-08 14:22:07  03-32-00 2018-07-26   \n",
            "2         642.0             635  2018-04-09 09:09:18  17-50-00 2018-07-07   \n",
            "3          96.0             539  2018-05-26 17:29:52  21-51-00 2018-06-09   \n",
            "4         121.0             856  2018-03-14 13:49:42  20-35-00 2018-04-28   \n",
            "\n",
            "  delivery_service_departure_date  client_arrival_date  item_type  \\\n",
            "0             19-35-00 2018-07-05  23-33-00 2018-07-05          0   \n",
            "1             05-19-00 2018-07-28  03-01-00 2018-07-30          0   \n",
            "2             17-50-00 2018-07-07  14-08-00 2018-07-09          0   \n",
            "3             21-51-00 2018-06-09  00-27-00 2018-06-10          0   \n",
            "4             20-35-00 2018-04-28  10-33-00 2018-04-30          0   \n",
            "\n",
            "   client_device_type  client_browser  client_is_app  \\\n",
            "0                   2               1           True   \n",
            "1                   1               0           True   \n",
            "2                   2               6           True   \n",
            "3                   2               1           True   \n",
            "4                   2               3           True   \n",
            "\n",
            "   order_tracking_available  brand_name  item_id  delivery_service_name  \\\n",
            "0                         0       107.0    402.0                   23.0   \n",
            "1                         0       112.0   1002.0                   10.0   \n",
            "2                         0       112.0   1341.0                   10.0   \n",
            "3                         0       103.0    257.0                   10.0   \n",
            "4                         0       112.0    901.0                   10.0   \n",
            "\n",
            "   type_prepayment   item_price  \n",
            "0                0   630.388722  \n",
            "1                1  1436.847481  \n",
            "2                1  1508.838708  \n",
            "3                1    51.886309  \n",
            "4                1  1182.162906  \n"
          ]
        }
      ]
    },
    {
      "cell_type": "code",
      "source": [
        "#преобразуем даты. У разных дат разный пользовательский формат, поэтому урежем дату только до года, месяца и дня\n",
        "# Удаление времени из даты у order_date\n",
        "df_train['order_date'] = df_train['order_date'].str.split(' ').str[0]  # Удаляем всё после пробела (время)\n",
        "df_test['order_date'] = df_test['order_date'].str.split(' ').str[0]\n",
        "\n",
        "# Преобразование в datetime\n",
        "df_train['order_date'] = pd.to_datetime(df_train['order_date'], errors='coerce')\n",
        "df_test['order_date'] = pd.to_datetime(df_test['order_date'], errors='coerce')\n",
        "\n",
        "# Проверяем результат\n",
        "print(df_train['order_date'].head())\n",
        "print(df_test['order_date'].head())"
      ],
      "metadata": {
        "colab": {
          "base_uri": "https://localhost:8080/"
        },
        "id": "dT6z6ECt0-oC",
        "outputId": "08b9a771-6f6e-4fc2-dfc6-05dcae92597c"
      },
      "execution_count": 66,
      "outputs": [
        {
          "output_type": "stream",
          "name": "stdout",
          "text": [
            "0   2017-12-27\n",
            "1   2016-10-17\n",
            "2   2017-04-26\n",
            "3   2017-07-01\n",
            "4   2017-05-31\n",
            "Name: order_date, dtype: datetime64[ns]\n",
            "0   2018-05-15\n",
            "1   2018-05-08\n",
            "2   2018-04-09\n",
            "3   2018-05-26\n",
            "4   2018-03-14\n",
            "Name: order_date, dtype: datetime64[ns]\n"
          ]
        }
      ]
    },
    {
      "cell_type": "code",
      "source": [
        "print(df_train['stock_departure_date'].isna().sum())"
      ],
      "metadata": {
        "colab": {
          "base_uri": "https://localhost:8080/"
        },
        "id": "252EgvZI45to",
        "outputId": "8dfd36b1-682c-4da5-aae2-b5909e540af2"
      },
      "execution_count": 67,
      "outputs": [
        {
          "output_type": "stream",
          "name": "stdout",
          "text": [
            "0\n"
          ]
        }
      ]
    },
    {
      "cell_type": "code",
      "source": [
        "print(df_train['client_arrival_date'].dtypes)"
      ],
      "metadata": {
        "colab": {
          "base_uri": "https://localhost:8080/"
        },
        "id": "gkYBjY_O5iiG",
        "outputId": "781ad5cb-021c-4de8-a266-5e63314997fa"
      },
      "execution_count": 68,
      "outputs": [
        {
          "output_type": "stream",
          "name": "stdout",
          "text": [
            "object\n"
          ]
        }
      ]
    },
    {
      "cell_type": "code",
      "source": [
        "# столбцы с другим пользовательским форматированием\n",
        "date_columns = ['stock_departure_date', 'delivery_service_departure_date', 'client_arrival_date']\n",
        "\n",
        "# Преобразуем столбцы\n",
        "for col in date_columns:\n",
        "    df_train[col] = df_train[col].astype(str)\n",
        "    df_test[col] = df_test[col].astype(str)\n",
        "    # Разделяем строку по пробелу и оставляем вторую часть\n",
        "    df_train[col] = df_train[col].str.split(' ').str[1]\n",
        "    df_test[col] = df_test[col].str.split(' ').str[1]\n",
        "\n",
        "    # Преобразуем в формат datetime\n",
        "    df_train[col] = pd.to_datetime(df_train[col], errors='coerce')\n",
        "    df_test[col] = pd.to_datetime(df_test[col], errors='coerce')\n",
        "# Проверяем результат\n",
        "print(df_train[date_columns].head())\n",
        "print(df_test[date_columns].head())\n"
      ],
      "metadata": {
        "colab": {
          "base_uri": "https://localhost:8080/"
        },
        "id": "I8AexjgE4Hlf",
        "outputId": "6eb4be31-57ec-4b13-f2f6-d86fa89d9667"
      },
      "execution_count": 69,
      "outputs": [
        {
          "output_type": "stream",
          "name": "stdout",
          "text": [
            "  stock_departure_date delivery_service_departure_date client_arrival_date\n",
            "0           2018-01-02                      2018-01-03          2018-01-03\n",
            "1           2016-11-02                      2016-11-02          2016-11-03\n",
            "2           2017-05-06                      2017-05-06          2017-05-07\n",
            "3           2017-07-09                      2017-07-09          2017-07-10\n",
            "4           2017-06-24                      2017-06-25          2017-06-26\n",
            "  stock_departure_date delivery_service_departure_date client_arrival_date\n",
            "0           2018-07-05                      2018-07-05          2018-07-05\n",
            "1           2018-07-26                      2018-07-28          2018-07-30\n",
            "2           2018-07-07                      2018-07-07          2018-07-09\n",
            "3           2018-06-09                      2018-06-09          2018-06-10\n",
            "4           2018-04-28                      2018-04-28          2018-04-30\n"
          ]
        }
      ]
    },
    {
      "cell_type": "markdown",
      "source": [
        "Для дальнейшего моделирования могут пригодиться временные признаки. Попробуем посмотреть, какие из них будут значимыми для целевой переменной"
      ],
      "metadata": {
        "id": "RVgx0aUp-r88"
      }
    },
    {
      "cell_type": "code",
      "source": [
        "#выделим временные промежутки по всему пути заказа, а также временные признаки, которые могут повлиять на целевую пременную\n",
        "def add_date_features(df):\n",
        "    # Продолжительность между датами\n",
        "    df['order_to_stock_days'] = (df['stock_departure_date'] - df['order_date']).dt.days\n",
        "    df['stock_to_delivery_service_days'] = (df['delivery_service_departure_date'] - df['stock_departure_date']).dt.days\n",
        "    df['delivery_service_to_client_days'] = (df['client_arrival_date'] - df['delivery_service_departure_date']).dt.days\n",
        "    df['total_delivery_days'] = (df['client_arrival_date'] - df['order_date']).dt.days\n",
        "\n",
        "    # Простые временные признаки\n",
        "    df['order_month'] = df['order_date'].dt.month\n",
        "    df['order_year'] = df['order_date'].dt.year\n",
        "    df['order_day'] = df['order_date'].dt.day\n",
        "    df['order_day_of_week'] = df['order_date'].dt.dayofweek\n",
        "    df['is_weekend'] = df['order_date'].dt.dayofweek >= 5\n",
        "\n",
        "    return df\n"
      ],
      "metadata": {
        "id": "jx4C-kbz-ZQE"
      },
      "execution_count": 70,
      "outputs": []
    },
    {
      "cell_type": "code",
      "source": [
        "# Преобразование тренировочной выборки\n",
        "df_train = add_date_features(df_train)\n",
        "\n",
        "# Преобразование тестовой выборки\n",
        "df_test = add_date_features(df_test)\n"
      ],
      "metadata": {
        "id": "UVMPGKEd_Vt7"
      },
      "execution_count": 71,
      "outputs": []
    },
    {
      "cell_type": "code",
      "source": [
        "print(df_train.head(5))\n",
        "print(df_test.head(5))"
      ],
      "metadata": {
        "colab": {
          "base_uri": "https://localhost:8080/"
        },
        "id": "rLsrzVNb9YB3",
        "outputId": "a3e89a17-25b2-4782-e7d9-4a9e2c18acd5"
      },
      "execution_count": 72,
      "outputs": [
        {
          "output_type": "stream",
          "name": "stdout",
          "text": [
            "   departure_country  departure_city  departure_region  arrival_country  \\\n",
            "0                 12           565.0               466               12   \n",
            "1                 12           361.0               292               12   \n",
            "2                 12           125.0              1666               12   \n",
            "3                 12           507.0               263               12   \n",
            "4                 12           261.0              1597               12   \n",
            "\n",
            "   arrival_city  arrival_region order_date stock_departure_date  \\\n",
            "0         162.0             888 2017-12-27           2018-01-02   \n",
            "1         121.0             351 2016-10-17           2016-11-02   \n",
            "2         634.0             530 2017-04-26           2017-05-06   \n",
            "3         171.0            1398 2017-07-01           2017-07-09   \n",
            "4         125.0            1666 2017-05-31           2017-06-24   \n",
            "\n",
            "  delivery_service_departure_date client_arrival_date  ...  item_losses  \\\n",
            "0                      2018-01-03          2018-01-03  ...     0.000000   \n",
            "1                      2016-11-02          2016-11-03  ...     0.000000   \n",
            "2                      2017-05-06          2017-05-07  ...     0.000000   \n",
            "3                      2017-07-09          2017-07-10  ...     0.000000   \n",
            "4                      2017-06-25          2017-06-26  ...   119.655797   \n",
            "\n",
            "   order_to_stock_days  stock_to_delivery_service_days  \\\n",
            "0                    6                               1   \n",
            "1                   16                               0   \n",
            "2                   10                               0   \n",
            "3                    8                               0   \n",
            "4                   24                               1   \n",
            "\n",
            "   delivery_service_to_client_days  total_delivery_days  order_month  \\\n",
            "0                                0                    7           12   \n",
            "1                                1                   17           10   \n",
            "2                                1                   11            4   \n",
            "3                                1                    9            7   \n",
            "4                                1                   26            5   \n",
            "\n",
            "   order_year  order_day  order_day_of_week  is_weekend  \n",
            "0        2017         27                  2       False  \n",
            "1        2016         17                  0       False  \n",
            "2        2017         26                  2       False  \n",
            "3        2017          1                  5        True  \n",
            "4        2017         31                  2       False  \n",
            "\n",
            "[5 rows x 30 columns]\n",
            "   departure_country  departure_city  departure_region  arrival_country  \\\n",
            "0                 12           125.0               824               12   \n",
            "1                 12           642.0               635               12   \n",
            "2                 12           193.0               215               12   \n",
            "3                 12           121.0                36               12   \n",
            "4                 12           485.0               189               12   \n",
            "\n",
            "   arrival_city  arrival_region order_date stock_departure_date  \\\n",
            "0         121.0            1732 2018-05-15           2018-07-05   \n",
            "1         193.0             215 2018-05-08           2018-07-26   \n",
            "2         642.0             635 2018-04-09           2018-07-07   \n",
            "3          96.0             539 2018-05-26           2018-06-09   \n",
            "4         121.0             856 2018-03-14           2018-04-28   \n",
            "\n",
            "  delivery_service_departure_date client_arrival_date  ...   item_price  \\\n",
            "0                      2018-07-05          2018-07-05  ...   630.388722   \n",
            "1                      2018-07-28          2018-07-30  ...  1436.847481   \n",
            "2                      2018-07-07          2018-07-09  ...  1508.838708   \n",
            "3                      2018-06-09          2018-06-10  ...    51.886309   \n",
            "4                      2018-04-28          2018-04-30  ...  1182.162906   \n",
            "\n",
            "   order_to_stock_days  stock_to_delivery_service_days  \\\n",
            "0                   51                               0   \n",
            "1                   79                               2   \n",
            "2                   89                               0   \n",
            "3                   14                               0   \n",
            "4                   45                               0   \n",
            "\n",
            "   delivery_service_to_client_days  total_delivery_days  order_month  \\\n",
            "0                                0                   51            5   \n",
            "1                                2                   83            5   \n",
            "2                                2                   91            4   \n",
            "3                                1                   15            5   \n",
            "4                                2                   47            3   \n",
            "\n",
            "   order_year  order_day  order_day_of_week  is_weekend  \n",
            "0        2018         15                  1       False  \n",
            "1        2018          8                  1       False  \n",
            "2        2018          9                  0       False  \n",
            "3        2018         26                  5        True  \n",
            "4        2018         14                  2       False  \n",
            "\n",
            "[5 rows x 29 columns]\n"
          ]
        }
      ]
    },
    {
      "cell_type": "code",
      "source": [
        "from sklearn.ensemble import RandomForestRegressor\n",
        "\n",
        "# смотрим на корреляцию созданных временных признаков\n",
        "temporal_features = ['order_year', 'order_month', 'order_day_of_week',\n",
        "                     'order_to_stock_days', 'stock_to_delivery_service_days', 'delivery_service_to_client_days', 'is_weekend']\n",
        "X_train_temporal = df_train[temporal_features]\n",
        "y_train = df_train['item_losses']\n",
        "\n",
        "model = RandomForestRegressor(random_state=42)\n",
        "model.fit(X_train_temporal, y_train)\n",
        "\n",
        "# Важность признаков\n",
        "feature_importances = pd.DataFrame({'feature': temporal_features,\n",
        "                                    'importance': model.feature_importances_})\n",
        "print(feature_importances.sort_values(by='importance', ascending=False))\n"
      ],
      "metadata": {
        "colab": {
          "base_uri": "https://localhost:8080/"
        },
        "id": "98o1SMHmAMBo",
        "outputId": "1aeb3d6c-2c42-43b2-a8ce-7ae00a9f3e79"
      },
      "execution_count": 73,
      "outputs": [
        {
          "output_type": "stream",
          "name": "stdout",
          "text": [
            "                           feature  importance\n",
            "3              order_to_stock_days    0.403934\n",
            "2                order_day_of_week    0.208923\n",
            "1                      order_month    0.192495\n",
            "4   stock_to_delivery_service_days    0.080364\n",
            "0                       order_year    0.049691\n",
            "5  delivery_service_to_client_days    0.046754\n",
            "6                       is_weekend    0.017840\n"
          ]
        }
      ]
    },
    {
      "cell_type": "markdown",
      "source": [
        "В итоге признаки, которые сильно влияют на целевую переменную:\n",
        "\n",
        "- order_to_stock_days (40.39%): вероятно, связан с задержкой между заказом и отправкой со склада\n",
        "- order_day_of_week (20.89%)\n",
        "- order_month (19.24%)\n",
        "\n",
        "Менее значимые признаки:\n",
        "\n",
        "- stock_to_delivery_service_days (8.04%)\n",
        "- order_year (4.97%)\n",
        "- delivery_service_to_client_days (4.68%)\n",
        "- is_weekend (1.78%)\n",
        "\n",
        "на данном этапе не будем удалять наименее значимые признаки, для того чтобы посмотреть, как они будут влиять на модель"
      ],
      "metadata": {
        "id": "ZXwl0ts6CaMZ"
      }
    },
    {
      "cell_type": "code",
      "source": [
        "#на основе наиболее значимых признаков создадим дополнительные признаки, которые модель сможет использовать для выявления неочевидных закономерностей\n",
        "# среднее время доставки по дням недели\n",
        "mean_delivery_by_weekday = df_train.groupby('order_day_of_week')['total_delivery_days'].mean()\n",
        "\n",
        "# Добавляем признак в тренировочный и тестовый набор\n",
        "df_train['mean_delivery_weekday'] = df_train['order_day_of_week'].map(mean_delivery_by_weekday)\n",
        "df_test['mean_delivery_weekday'] = df_test['order_day_of_week'].map(mean_delivery_by_weekday)\n"
      ],
      "metadata": {
        "id": "mc-nj3dkFOcW"
      },
      "execution_count": 74,
      "outputs": []
    },
    {
      "cell_type": "code",
      "source": [
        "# среднее время доставки по месяцам\n",
        "mean_delivery_by_month = df_train.groupby('order_month')['total_delivery_days'].mean()\n",
        "\n",
        "# Добавляем признак в тренировочный и тестовый набор\n",
        "df_train['mean_delivery_month'] = df_train['order_month'].map(mean_delivery_by_month)\n",
        "df_test['mean_delivery_month'] = df_test['order_month'].map(mean_delivery_by_month)\n"
      ],
      "metadata": {
        "id": "ALuE45sUFwyU"
      },
      "execution_count": 75,
      "outputs": []
    },
    {
      "cell_type": "code",
      "source": [
        "# Среднее общее время доставки\n",
        "mean_total_delivery = df_train['total_delivery_days'].mean()\n",
        "\n",
        "# Индикатор задержки\n",
        "df_train['is_delayed'] = (df_train['total_delivery_days'] > mean_total_delivery).astype(int)\n",
        "df_test['is_delayed'] = (df_test['total_delivery_days'] > mean_total_delivery).astype(int)\n"
      ],
      "metadata": {
        "id": "Kc9tfGcAF1CK"
      },
      "execution_count": 76,
      "outputs": []
    },
    {
      "cell_type": "code",
      "source": [
        "# общее число заказов по месяцам, чтобы определить загруженность\n",
        "orders_by_month = df_train['order_month'].value_counts()\n",
        "\n",
        "# Добавляем признак в данные\n",
        "df_train['orders_in_month'] = df_train['order_month'].map(orders_by_month)\n",
        "df_test['orders_in_month'] = df_test['order_month'].map(orders_by_month)\n"
      ],
      "metadata": {
        "id": "oK-1Y4FnGCTH"
      },
      "execution_count": 77,
      "outputs": []
    },
    {
      "cell_type": "code",
      "source": [
        "#определим сезон заказов\n",
        "def get_season(month):\n",
        "    if month in [12, 1, 2]:\n",
        "        return 'Winter'\n",
        "    elif month in [3, 4, 5]:\n",
        "        return 'Spring'\n",
        "    elif month in [6, 7, 8]:\n",
        "        return 'Summer'\n",
        "    else:\n",
        "        return 'Autumn'\n",
        "\n",
        "# Применяем к данным\n",
        "df_train['order_season'] = df_train['order_month'].apply(get_season)\n",
        "df_test['order_season'] = df_test['order_month'].apply(get_season)\n",
        "\n",
        "# переводим сезон в числовую переменную\n",
        "from sklearn.preprocessing import LabelEncoder\n",
        "le = LabelEncoder()\n",
        "df_train['order_season'] = le.fit_transform(df_train['order_season'])\n",
        "df_test['order_season'] = le.transform(df_test['order_season'])\n"
      ],
      "metadata": {
        "id": "ZbeH0JXMGkox"
      },
      "execution_count": 78,
      "outputs": []
    },
    {
      "cell_type": "code",
      "source": [
        "#удаляем столбцы с исходными датами\n",
        "columns_to_drop = ['stock_departure_date', 'delivery_service_departure_date', 'client_arrival_date', 'order_date']\n",
        "df_train.drop(columns=columns_to_drop, inplace=True)\n",
        "df_test.drop(columns=columns_to_drop, inplace=True)"
      ],
      "metadata": {
        "id": "9vqm8Xl-GUrr"
      },
      "execution_count": 79,
      "outputs": []
    },
    {
      "cell_type": "code",
      "source": [
        "print(df_train.head(5))"
      ],
      "metadata": {
        "colab": {
          "base_uri": "https://localhost:8080/"
        },
        "id": "G5TCbuaxHqSX",
        "outputId": "68bbbb14-1d30-4a5c-808f-d2d436bbb288"
      },
      "execution_count": 80,
      "outputs": [
        {
          "output_type": "stream",
          "name": "stdout",
          "text": [
            "   departure_country  departure_city  departure_region  arrival_country  \\\n",
            "0                 12           565.0               466               12   \n",
            "1                 12           361.0               292               12   \n",
            "2                 12           125.0              1666               12   \n",
            "3                 12           507.0               263               12   \n",
            "4                 12           261.0              1597               12   \n",
            "\n",
            "   arrival_city  arrival_region  item_type  client_device_type  \\\n",
            "0         162.0             888          0                   1   \n",
            "1         121.0             351          0                   2   \n",
            "2         634.0             530          0                   3   \n",
            "3         171.0            1398          0                   0   \n",
            "4         125.0            1666          0                   3   \n",
            "\n",
            "   client_browser  client_is_app  ...  order_month  order_year  order_day  \\\n",
            "0               0           True  ...           12        2017         27   \n",
            "1               1           True  ...           10        2016         17   \n",
            "2               0           True  ...            4        2017         26   \n",
            "3               0           True  ...            7        2017          1   \n",
            "4               0           True  ...            5        2017         31   \n",
            "\n",
            "   order_day_of_week  is_weekend  mean_delivery_weekday  mean_delivery_month  \\\n",
            "0                  2       False              19.203620            15.556574   \n",
            "1                  0       False              18.616349            14.094325   \n",
            "2                  2       False              19.203620            22.226566   \n",
            "3                  5        True              19.818116            19.564053   \n",
            "4                  2       False              19.203620            27.045402   \n",
            "\n",
            "   is_delayed  orders_in_month  order_season  \n",
            "0           0            35679             3  \n",
            "1           0            25359             0  \n",
            "2           0            14402             1  \n",
            "3           0            24503             2  \n",
            "4           1            19052             1  \n",
            "\n",
            "[5 rows x 31 columns]\n"
          ]
        }
      ]
    },
    {
      "cell_type": "code",
      "source": [
        "#приступим к моделированию. Разделим выборку train на тестовую и обучающую\n",
        "from sklearn.model_selection import train_test_split\n",
        "\n",
        "# Выделяем признаки и целевую переменную\n",
        "X = df_train.drop(columns=['item_losses'])  # Признаки\n",
        "y = df_train['item_losses']  # Целевая переменная\n",
        "\n",
        "# Разделяем данные на обучающую и валидационную выборки\n",
        "X_train, X_val, y_train, y_val = train_test_split(X, y, test_size=0.2, random_state=42)\n"
      ],
      "metadata": {
        "id": "hd9S9R9w_t8H"
      },
      "execution_count": 81,
      "outputs": []
    },
    {
      "cell_type": "code",
      "source": [
        "from sklearn.ensemble import RandomForestRegressor\n",
        "from sklearn.metrics import mean_absolute_error, mean_squared_error\n",
        "\n",
        "# Создаем и обучаем модель\n",
        "model = RandomForestRegressor(n_estimators=100, random_state=42)\n",
        "model.fit(X_train, y_train)\n",
        "\n",
        "# Прогнозируем на валидационных данных\n",
        "y_val_pred = model.predict(X_val)\n",
        "\n",
        "# Оцениваем качество модели\n",
        "mae = mean_absolute_error(y_val, y_val_pred)\n",
        "rmse = mean_squared_error(y_val, y_val_pred, squared=False)\n",
        "\n",
        "print(f\"MAE: {mae}\")\n",
        "print(f\"RMSE: {rmse}\")\n"
      ],
      "metadata": {
        "colab": {
          "base_uri": "https://localhost:8080/"
        },
        "id": "uevov2uIElhZ",
        "outputId": "5ee4f2bd-22b3-4125-cb68-83dd2213382e"
      },
      "execution_count": 82,
      "outputs": [
        {
          "output_type": "stream",
          "name": "stdout",
          "text": [
            "MAE: 24.25598669681257\n",
            "RMSE: 36.9984393566797\n"
          ]
        },
        {
          "output_type": "stream",
          "name": "stderr",
          "text": [
            "/usr/local/lib/python3.10/dist-packages/sklearn/metrics/_regression.py:492: FutureWarning: 'squared' is deprecated in version 1.4 and will be removed in 1.6. To calculate the root mean squared error, use the function'root_mean_squared_error'.\n",
            "  warnings.warn(\n"
          ]
        }
      ]
    },
    {
      "cell_type": "markdown",
      "source": [
        "MAE: 24.25 и RMSE: 36.99 указывают на то, что модель в среднем ошибается на 24.25, но квадратный корень из средней квадратичной ошибки больше MAE, потому что более чувствителен к выбросам. Попробуем изменить параметры модели"
      ],
      "metadata": {
        "id": "gBF2RNgjKYzt"
      }
    },
    {
      "cell_type": "code",
      "source": [
        "from sklearn.model_selection import RandomizedSearchCV\n",
        "from sklearn.ensemble import RandomForestRegressor\n",
        "\n",
        "\n",
        "# гиперпараметры\n",
        "param_dist = {\n",
        "    'n_estimators': [50, 100, 150],\n",
        "    'max_depth': [5, 10, 15, None],\n",
        "    'min_samples_split': [2, 5, 10],\n",
        "    'min_samples_leaf': [1, 2, 4],\n",
        "    'max_features': ['auto', 'sqrt', None]\n",
        "}\n",
        "\n",
        "# Настройка RandomizedSearchCV для ускорения процесса подбора\n",
        "random_search = RandomizedSearchCV(\n",
        "    estimator=RandomForestRegressor(random_state=42),\n",
        "    param_distributions=param_dist,\n",
        "    n_iter=10,\n",
        "    cv=3,\n",
        "    scoring='neg_mean_absolute_error',  # Оценка по MAE (чем меньше, тем лучше)\n",
        "    n_jobs=-1,\n",
        "    random_state=42\n",
        ")\n",
        "\n",
        "# Выполняем подбор гиперпараметров\n",
        "random_search.fit(X_train, y_train)\n",
        "\n",
        "# Вывод лучших параметров\n",
        "print(\"Лучшие параметры:\", random_search.best_params_)\n",
        "\n",
        "# Оценка качества модели с лучшими параметрами\n",
        "best_model = random_search.best_estimator_\n",
        "y_val_pred = best_model.predict(X_val)\n",
        "\n",
        "from sklearn.metrics import mean_absolute_error, mean_squared_error\n",
        "\n",
        "# Метрики\n",
        "mae = mean_absolute_error(y_val, y_val_pred)\n",
        "rmse = mean_squared_error(y_val, y_val_pred, squared=False)\n",
        "\n",
        "print(f\"MAE: {mae}\")\n",
        "print(f\"RMSE: {rmse}\")\n",
        "\n"
      ],
      "metadata": {
        "colab": {
          "base_uri": "https://localhost:8080/"
        },
        "id": "UOEqaPaXKimL",
        "outputId": "674201dc-3490-449c-f44d-75a7e594583a"
      },
      "execution_count": 83,
      "outputs": [
        {
          "output_type": "stream",
          "name": "stderr",
          "text": [
            "/usr/local/lib/python3.10/dist-packages/sklearn/model_selection/_validation.py:540: FitFailedWarning: \n",
            "9 fits failed out of a total of 30.\n",
            "The score on these train-test partitions for these parameters will be set to nan.\n",
            "If these failures are not expected, you can try to debug them by setting error_score='raise'.\n",
            "\n",
            "Below are more details about the failures:\n",
            "--------------------------------------------------------------------------------\n",
            "9 fits failed with the following error:\n",
            "Traceback (most recent call last):\n",
            "  File \"/usr/local/lib/python3.10/dist-packages/sklearn/model_selection/_validation.py\", line 888, in _fit_and_score\n",
            "    estimator.fit(X_train, y_train, **fit_params)\n",
            "  File \"/usr/local/lib/python3.10/dist-packages/sklearn/base.py\", line 1466, in wrapper\n",
            "    estimator._validate_params()\n",
            "  File \"/usr/local/lib/python3.10/dist-packages/sklearn/base.py\", line 666, in _validate_params\n",
            "    validate_parameter_constraints(\n",
            "  File \"/usr/local/lib/python3.10/dist-packages/sklearn/utils/_param_validation.py\", line 95, in validate_parameter_constraints\n",
            "    raise InvalidParameterError(\n",
            "sklearn.utils._param_validation.InvalidParameterError: The 'max_features' parameter of RandomForestRegressor must be an int in the range [1, inf), a float in the range (0.0, 1.0], a str among {'log2', 'sqrt'} or None. Got 'auto' instead.\n",
            "\n",
            "  warnings.warn(some_fits_failed_message, FitFailedWarning)\n",
            "/usr/local/lib/python3.10/dist-packages/sklearn/model_selection/_search.py:1103: UserWarning: One or more of the test scores are non-finite: [-33.41704048 -33.38784987 -32.36313812          nan          nan\n",
            " -33.42461973 -30.75763343 -32.2931264           nan -32.37148146]\n",
            "  warnings.warn(\n"
          ]
        },
        {
          "output_type": "stream",
          "name": "stdout",
          "text": [
            "Лучшие параметры: {'n_estimators': 50, 'min_samples_split': 5, 'min_samples_leaf': 1, 'max_features': None, 'max_depth': 15}\n",
            "MAE: 30.349922303340968\n",
            "RMSE: 42.131764944672405\n"
          ]
        },
        {
          "output_type": "stream",
          "name": "stderr",
          "text": [
            "/usr/local/lib/python3.10/dist-packages/sklearn/metrics/_regression.py:492: FutureWarning: 'squared' is deprecated in version 1.4 and will be removed in 1.6. To calculate the root mean squared error, use the function'root_mean_squared_error'.\n",
            "  warnings.warn(\n"
          ]
        }
      ]
    },
    {
      "cell_type": "code",
      "source": [
        "y_test_pred = best_model.predict(df_test)\n",
        "df_test['item_losses'] = y_test_pred\n",
        "df_test[['item_losses']].to_csv('submission.csv', index=False)\n"
      ],
      "metadata": {
        "id": "_Ya5fVRsXRpq"
      },
      "execution_count": 84,
      "outputs": []
    },
    {
      "cell_type": "code",
      "source": [
        "from sklearn.metrics import mean_absolute_error, mean_squared_error\n",
        "\n",
        "# Прогнозирование на валидационных данных\n",
        "y_val_pred = model.predict(X_val)\n",
        "\n",
        "# Метрики\n",
        "mae = mean_absolute_error(y_val, y_val_pred)\n",
        "rmse = mean_squared_error(y_val, y_val_pred, squared=False)\n",
        "\n",
        "print(f\"MAE: {mae}\")\n",
        "print(f\"RMSE: {rmse}\")\n"
      ],
      "metadata": {
        "colab": {
          "base_uri": "https://localhost:8080/"
        },
        "id": "vdJyef4jcGpY",
        "outputId": "655ca5ee-2df6-49df-e71a-39ef68db1b10"
      },
      "execution_count": 85,
      "outputs": [
        {
          "output_type": "stream",
          "name": "stdout",
          "text": [
            "MAE: 24.25598669681257\n",
            "RMSE: 36.9984393566797\n"
          ]
        },
        {
          "output_type": "stream",
          "name": "stderr",
          "text": [
            "/usr/local/lib/python3.10/dist-packages/sklearn/metrics/_regression.py:492: FutureWarning: 'squared' is deprecated in version 1.4 and will be removed in 1.6. To calculate the root mean squared error, use the function'root_mean_squared_error'.\n",
            "  warnings.warn(\n"
          ]
        }
      ]
    },
    {
      "cell_type": "code",
      "source": [
        "import matplotlib.pyplot as plt\n",
        "import seaborn as sns\n",
        "\n",
        "# Строим график для сравнения реальных значений и прогнозов\n",
        "plt.figure(figsize=(10, 6))\n",
        "sns.scatterplot(x=y_val, y=y_val_pred, alpha=0.7, label=\"Прогнозы\", color='blue')\n",
        "sns.lineplot(x=y_val, y=y_val, color='red', label=\"Идеальная линия\")\n",
        "plt.title(\"Сравнение реальных значений и прогнозов\")\n",
        "plt.xlabel(\"Реальные значения\")\n",
        "plt.ylabel(\"Прогнозы\")\n",
        "plt.legend()\n",
        "plt.grid(True)\n",
        "plt.show()\n"
      ],
      "metadata": {
        "colab": {
          "base_uri": "https://localhost:8080/",
          "height": 564
        },
        "id": "UDCIL8wwhPS0",
        "outputId": "428c4bdf-3219-4856-b451-1759eca0f107"
      },
      "execution_count": 86,
      "outputs": [
        {
          "output_type": "display_data",
          "data": {
            "text/plain": [
              "<Figure size 1000x600 with 1 Axes>"
            ],
            "image/png": "[encoded data removed]"
          },
          "metadata": {}
        }
      ]
    },
    {
      "cell_type": "markdown",
      "source": [
        "По графику видно, что модель систематически занижает прогноз для более высоких значений целевой переменной. Чем больше реальное значение, тем сильнее недооценка. Модель хорошо предсказывает для значений, близких к нулю. Однако для низких значений есть выбросы, что говорит о наличии ошибок даже при небольших значениях. В области высоких реальных значений (например, больше 400) наблюдается значительное расхождение между предсказаниями и реальностью.\n",
        "Это может говорить о том, что модель плохо справляется с редкими случаями высоких расходов. Возможно, следует нормализировать значения целевой переменной или использовать градиентный бустинг."
      ],
      "metadata": {
        "id": "pT7k9xtVh6f8"
      }
    },
    {
      "cell_type": "code",
      "source": [
        "\n",
        "df_test['item_losses'] = y_test_pred\n",
        "\n",
        "\n",
        "df_test.to_csv('df_test_with_predictions.csv', index=False)\n",
        "\n",
        "\n",
        "from google.colab import files\n",
        "files.download('df_test_with_predictions.csv')\n"
      ],
      "metadata": {
        "colab": {
          "base_uri": "https://localhost:8080/",
          "height": 17
        },
        "id": "Adt09CVabqNy",
        "outputId": "48d86ee0-5af4-481a-9e32-c91cce6167cd"
      },
      "execution_count": 88,
      "outputs": [
        {
          "output_type": "display_data",
          "data": {
            "text/plain": [
              "<IPython.core.display.Javascript object>"
            ],
            "application/javascript": [
              "\n",
              "    async function download(id, filename, size) {\n",
              "      if (!google.colab.kernel.accessAllowed) {\n",
              "        return;\n",
              "      }\n",
              "      const div = document.createElement('div');\n",
              "      const label = document.createElement('label');\n",
              "      label.textContent = `Downloading \"${filename}\": `;\n",
              "      div.appendChild(label);\n",
              "      const progress = document.createElement('progress');\n",
              "      progress.max = size;\n",
              "      div.appendChild(progress);\n",
              "      document.body.appendChild(div);\n",
              "\n",
              "      const buffers = [];\n",
              "      let downloaded = 0;\n",
              "\n",
              "      const channel = await google.colab.kernel.comms.open(id);\n",
              "      // Send a message to notify the kernel that we're ready.\n",
              "      channel.send({})\n",
              "\n",
              "      for await (const message of channel.messages) {\n",
              "        // Send a message to notify the kernel that we're ready.\n",
              "        channel.send({})\n",
              "        if (message.buffers) {\n",
              "          for (const buffer of message.buffers) {\n",
              "            buffers.push(buffer);\n",
              "            downloaded += buffer.byteLength;\n",
              "            progress.value = downloaded;\n",
              "          }\n",
              "        }\n",
              "      }\n",
              "      const blob = new Blob(buffers, {type: 'application/binary'});\n",
              "      const a = document.createElement('a');\n",
              "      a.href = window.URL.createObjectURL(blob);\n",
              "      a.download = filename;\n",
              "      div.appendChild(a);\n",
              "      a.click();\n",
              "      div.remove();\n",
              "    }\n",
              "  "
            ]
          },
          "metadata": {}
        },
        {
          "output_type": "display_data",
          "data": {
            "text/plain": [
              "<IPython.core.display.Javascript object>"
            ],
            "application/javascript": [
              "download(\"download_e480535d-f0b9-45e7-8340-d14cdfe57206\", \"df_test_with_predictions.csv\", 13103682)"
            ]
          },
          "metadata": {}
        }
      ]
    }
  ]
}